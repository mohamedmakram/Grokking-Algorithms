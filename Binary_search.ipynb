{
  "cells": [
    {
      "cell_type": "code",
      "source": [
        "#implementing binary search\n",
        "def binary_search(arr, item):\n",
        "  arr = sorted(arr)               # as binary search must have a sorted list\n",
        "  low  = 0\n",
        "  high = len(arr) - 1\n",
        "                                  # loop through the list and checking if low = high\n",
        "  while low <= high:\n",
        "    mid = (high + low) // 2       # update middle point\n",
        "    guess = arr[mid]              # update guess\n",
        "    if guess == item:\n",
        "      return mid                  # if guess found return its position\n",
        "    if guess < item:\n",
        "      low = mid + 1               # if update low\n",
        "    else:\n",
        "      high = mid - 1              # if update high\n",
        "\n",
        "  return None"
      ],
      "metadata": {
        "id": "_9A0TSp_inhX"
      },
      "execution_count": 9,
      "outputs": []
    },
    {
      "cell_type": "code",
      "source": [
        "print(binary_search([1,2,3,4,5,7,8,9,10], 10))"
      ],
      "metadata": {
        "id": "2XDsm_vdqUPT",
        "outputId": "3be25f4c-5a16-4ad6-b547-b7cca6080853",
        "colab": {
          "base_uri": "https://localhost:8080/"
        }
      },
      "execution_count": 10,
      "outputs": [
        {
          "output_type": "stream",
          "name": "stdout",
          "text": [
            "8\n"
          ]
        }
      ]
    },
    {
      "cell_type": "code",
      "source": [
        "print(binary_search([10, 1, 2, 3, 7, 8, 9, 4, 5], 10))"
      ],
      "metadata": {
        "id": "ys-ahG1KqeiL",
        "outputId": "0729514f-1ee3-4814-9af9-657690f53cb8",
        "colab": {
          "base_uri": "https://localhost:8080/"
        }
      },
      "execution_count": 11,
      "outputs": [
        {
          "output_type": "stream",
          "name": "stdout",
          "text": [
            "8\n"
          ]
        }
      ]
    },
    {
      "cell_type": "code",
      "source": [
        ""
      ],
      "metadata": {
        "id": "56rIZ08BuaFa"
      },
      "execution_count": null,
      "outputs": []
    }
  ],
  "metadata": {
    "colab": {
      "collapsed_sections": [],
      "name": "Welcome To Colaboratory",
      "toc_visible": true,
      "provenance": []
    },
    "kernelspec": {
      "display_name": "Python 3",
      "name": "python3"
    }
  },
  "nbformat": 4,
  "nbformat_minor": 0
}